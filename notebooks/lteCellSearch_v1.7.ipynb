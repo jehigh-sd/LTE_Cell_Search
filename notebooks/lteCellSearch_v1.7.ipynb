{
 "cells": [
  {
   "cell_type": "markdown",
   "metadata": {},
   "source": [
    "## Hardware Setup <a class=\"anchor\" id=\"hardware-setup\"></a>\n",
    "\n",
    "The RFSoC2x2 board is dual-channel. Notice that there are only\n",
    "4 SMAs on your board, labeled DAC1, DAC2, ADC1, and ADC2.\n",
    "Only two sets of RF ADC and RF DAC channels are accessible on\n",
    "the RFSoC2x2 board.\n",
    "\n",
    "You should create the loopback connection using SMA cables\n",
    "as shown below:\n",
    "\n",
    "* Channel 0: DAC2 to ADC2\n",
    "* Channel 1: DAC1 to ADC1\n",
    "\n",
    "See the image below for a demonstration."
   ]
  },
  {
   "cell_type": "markdown",
   "metadata": {},
   "source": [
    "<img src='data/rfsoc2x2_connections.jpg' align='left' style='left' width='40%' height='40%'/>"
   ]
  },
  {
   "cell_type": "code",
   "execution_count": 1,
   "metadata": {},
   "outputs": [
    {
     "data": {
      "application/javascript": [
       "\n",
       "try {\n",
       "require(['notebook/js/codecell'], function(codecell) {\n",
       "  codecell.CodeCell.options_default.highlight_modes[\n",
       "      'magic_text/x-csrc'] = {'reg':[/^%%microblaze/]};\n",
       "  Jupyter.notebook.events.one('kernel_ready.Kernel', function(){\n",
       "      Jupyter.notebook.get_cells().map(function(cell){\n",
       "          if (cell.cell_type == 'code'){ cell.auto_highlight(); } }) ;\n",
       "  });\n",
       "});\n",
       "} catch (e) {};\n"
      ]
     },
     "metadata": {},
     "output_type": "display_data"
    },
    {
     "data": {
      "application/javascript": [
       "\n",
       "try {\n",
       "require(['notebook/js/codecell'], function(codecell) {\n",
       "  codecell.CodeCell.options_default.highlight_modes[\n",
       "      'magic_text/x-csrc'] = {'reg':[/^%%pybind11/]};\n",
       "  Jupyter.notebook.events.one('kernel_ready.Kernel', function(){\n",
       "      Jupyter.notebook.get_cells().map(function(cell){\n",
       "          if (cell.cell_type == 'code'){ cell.auto_highlight(); } }) ;\n",
       "  });\n",
       "});\n",
       "} catch (e) {};\n"
      ]
     },
     "metadata": {},
     "output_type": "display_data"
    }
   ],
   "source": [
    "import time\n",
    "import xrfdc\n",
    "import numpy as np\n",
    "import ipywidgets as ipw\n",
    "from pynq import allocate\n",
    "import plotly.graph_objs as go\n",
    "from pynq.overlays.base import BaseOverlay\n",
    "\n",
    "base = BaseOverlay('lteCellSearch_v1.7.bit')"
   ]
  },
  {
   "cell_type": "markdown",
   "metadata": {},
   "source": [
    "The RFSoC2x2 has a sophisticated clocking network, which can generate\n",
    "low-jitter clocks for the RF DC Phase-Locked Loops (PLLs). The base overlay\n",
    "has a simple method to initialize these clocks. Run the cell below to set\n",
    "the LMK and LMX clocks to 122.88MHz and 491.52MHz, respectively."
   ]
  },
  {
   "cell_type": "code",
   "execution_count": 2,
   "metadata": {},
   "outputs": [],
   "source": [
    "base.init_rf_clks(lmk_freq=122.88, lmx_freq=491.52)"
   ]
  },
  {
   "cell_type": "code",
   "execution_count": 3,
   "metadata": {},
   "outputs": [],
   "source": [
    "base.radio.transmitter.channel_00.dac_tile.DynamicPLLConfig(1, 491.52, 3932.16)\n",
    "base.radio.transmitter.channel_10.dac_tile.DynamicPLLConfig(1, 491.52, 3932.16)\n",
    "base.radio.receiver.channel_00.adc_tile.DynamicPLLConfig(1, 491.52, 3932.16)\n",
    "base.radio.receiver.channel_20.adc_tile.DynamicPLLConfig(1, 491.52, 3932.16)"
   ]
  },
  {
   "cell_type": "markdown",
   "metadata": {},
   "source": [
    "### Setting up the Transmitter\n",
    "There are several interesting spectral properties to inspect.\n",
    "We will set up each RF DAC channel with a carrier frequency first.\n",
    "Then we can set the each channel to different frequencies and amplitudes\n",
    "to make our example more interesting."
   ]
  },
  {
   "cell_type": "code",
   "execution_count": 4,
   "metadata": {},
   "outputs": [],
   "source": [
    "def set_transmitter_channel(channel, enable, gain, frequency):\n",
    "    channel.control.enable = enable\n",
    "    channel.control.gain = gain\n",
    "    channel.dac_block.MixerSettings['Freq'] = frequency\n",
    "\n",
    "set_transmitter_channel(base.radio.transmitter.channel[0], True, 0.8, 800)\n",
    "set_transmitter_channel(base.radio.transmitter.channel[1], True, 0.8, 800)"
   ]
  },
  {
   "cell_type": "code",
   "execution_count": null,
   "metadata": {},
   "outputs": [],
   "source": [
    "base.radio.transmitter.channel_00.dac_block.MixerSettings['Freq'] = 0.0\n",
    "base.radio.transmitter.channel_10.dac_block.MixerSettings['Freq'] = 0.0\n",
    "base.radio.transmitter.channel_00.dac_block.UpdateEvent(xrfdc.EVENT_MIXER)\n",
    "base.radio.transmitter.channel_10.dac_block.UpdateEvent(xrfdc.EVENT_MIXER)"
   ]
  },
  {
   "cell_type": "markdown",
   "metadata": {},
   "source": [
    "The above code cell has set the transmitter for each channel as follows:\n",
    "\n",
    "* Transmitter Channel 0\n",
    "    * Frequency: 200 MHz\n",
    "    * Gain: 0.8\n",
    "* Transmitter Channel 1\n",
    "    * Frequency: 1500 MHz\n",
    "    * Gain: 0.15\n",
    "    \n",
    "Lets look out for these frequencies when we finally reach the spectrum analysis section."
   ]
  },
  {
   "cell_type": "markdown",
   "metadata": {},
   "source": [
    "### Capture RF ADC Data <a class=\"anchor\" id=\"capture-rf-adc-data\"></a>\n",
    "\n",
    "In order to perform spectral analysis, we need to capture data from the RF\n",
    "ADC. We can capture data using the radio hierarchy block."
   ]
  },
  {
   "cell_type": "code",
   "execution_count": 6,
   "metadata": {},
   "outputs": [],
   "source": [
    "base.radio.receiver.channel_00.adc_block.MixerSettings['Freq'] = -800.0\n",
    "base.radio.receiver.channel_20.adc_block.MixerSettings['Freq'] = -800.0\n",
    "base.radio.receiver.channel_00.adc_block.UpdateEvent(xrfdc.EVENT_MIXER)\n",
    "base.radio.receiver.channel_20.adc_block.UpdateEvent(xrfdc.EVENT_MIXER)"
   ]
  },
  {
   "cell_type": "code",
   "execution_count": 7,
   "metadata": {},
   "outputs": [],
   "source": [
    "number_samples = 4096\n",
    "sample_frequency = 491.52e6\n",
    "cdata = []\n",
    "for i in range(0, len(base.radio.receiver.channel)):\n",
    "    cdata.append(base.radio.receiver.channel[i].transfer(number_samples))"
   ]
  },
  {
   "cell_type": "markdown",
   "metadata": {},
   "source": [
    "Great, let's now create time domain plots for each segment of data captured\n",
    "from the RF ADC. \n",
    "\n",
    "In the cell below, we have created a simple helper function `plot_complex_time`\n",
    "which can help us quickly create new complex time domain plots. \n",
    "We will use `plotly`, `numpy`, and `ipywidgets` to support our visualization."
   ]
  },
  {
   "cell_type": "code",
   "execution_count": 8,
   "metadata": {},
   "outputs": [
    {
     "data": {
      "application/vnd.jupyter.widget-view+json": {
       "model_id": "f3591eaa48d1422ea98c3427d23fefad",
       "version_major": 2,
       "version_minor": 0
      },
      "text/plain": [
       "VBox(children=(FigureWidget({\n",
       "    'data': [{'name': 'Real',\n",
       "              'type': 'scatter',\n",
       "              'ui…"
      ]
     },
     "metadata": {},
     "output_type": "display_data"
    }
   ],
   "source": [
    "def plot_complex_time(data, n=number_samples, fs=sample_frequency, \n",
    "                      title='Complex Time Plot'):\n",
    "    plt_re_temp = (go.Scatter(x = np.arange(0, n/fs, 1/fs),\n",
    "                              y = np.real(data), name='Real'))\n",
    "    plt_im_temp = (go.Scatter(x = np.arange(0, n/fs, 1/fs),\n",
    "                              y = np.imag(data), name='Imag'))\n",
    "    return go.FigureWidget(data = [plt_re_temp, plt_im_temp],\n",
    "                           layout = {'title': title, \n",
    "                                     'xaxis': {\n",
    "                                         'title': 'Seconds (s)',\n",
    "                                         'autorange' : True},\n",
    "                                     'yaxis': {\n",
    "                                         'title': 'Amplitude (V)'}})\n",
    "\n",
    "tfigs = []\n",
    "for i in range(0, len(base.radio.receiver.channel)):\n",
    "    tfigs.append(plot_complex_time(\n",
    "            data=cdata[i], \n",
    "            title=''.join(['Time Domain Plot of ADC Channel ', str(i)])))\n",
    "\n",
    "ipw.VBox(tfigs)"
   ]
  },
  {
   "cell_type": "markdown",
   "metadata": {},
   "source": [
    "Note it is quite difficult to look at the plots and determine the signal's\n",
    "oscillation frequency. This is where spectral analysis can prove to be very\n",
    "useful. Let's first apply a simple window to our time domain signals."
   ]
  },
  {
   "cell_type": "markdown",
   "metadata": {},
   "source": [
    "### Time Domain Windowing <a class=\"anchor\" id=\"time-domain-windowing\"></a>\n",
    "\n",
    "Windowing is a useful tool in spectral analysis of a time domain signal. \n",
    "This technique is used on the time domain signal before FFT. \n",
    "\n",
    "Why do we need windowing? The FFT assumes that the input signal is periodic.\n",
    "To prevent unwanted frequency spurs and spectral leakage, the start of the\n",
    "signal should also connect to the end of the signal.\n",
    "\n",
    "In this example, we will use a simple Blackman\n",
    "filter to illustrate windowing."
   ]
  },
  {
   "cell_type": "code",
   "execution_count": 9,
   "metadata": {},
   "outputs": [],
   "source": [
    "window = np.array(np.blackman(number_samples)[:])"
   ]
  },
  {
   "cell_type": "markdown",
   "metadata": {},
   "source": [
    "The blackman window can be easily applied to the time domain data\n",
    "through element-wise multiplication. This is why the window created in the\n",
    "cell above, is the same size as our time domain data."
   ]
  },
  {
   "cell_type": "code",
   "execution_count": 10,
   "metadata": {},
   "outputs": [
    {
     "data": {
      "application/vnd.jupyter.widget-view+json": {
       "model_id": "d604105cd27d489d811b2609f4cb922b",
       "version_major": 2,
       "version_minor": 0
      },
      "text/plain": [
       "VBox(children=(FigureWidget({\n",
       "    'data': [{'name': 'Real',\n",
       "              'type': 'scatter',\n",
       "              'ui…"
      ]
     },
     "metadata": {},
     "output_type": "display_data"
    }
   ],
   "source": [
    "wdata = []\n",
    "wfigs = []\n",
    "\n",
    "for i in range(0, len(base.radio.receiver.channel)):\n",
    "    wdata.append(cdata[i]*window)\n",
    "    wfigs.append(plot_complex_time(\n",
    "            data=wdata[i], \n",
    "            title=''.join(['Windowed Plot of ADC Channel ', str(i)])))\n",
    "\n",
    "ipw.VBox(wfigs)"
   ]
  },
  {
   "cell_type": "markdown",
   "metadata": {},
   "source": [
    "As you can see, the windowed data now starts and ends around an amplitude of 0.\n",
    "This reduces spectral leakage and unwanted spurs when we later perform\n",
    "spectral analysis."
   ]
  },
  {
   "cell_type": "markdown",
   "metadata": {},
   "source": [
    "### Convert to the Frequency Domain <a class=\"anchor\" id=\"convert-to-the-frequency-domain\"></a>\n",
    "\n",
    "Converting to the frequency domain is very easy using the FFT. The `numpy`\n",
    "package performs most of the hard work for us. Let's obtain the magnitude of\n",
    "the frequency spectrum."
   ]
  },
  {
   "cell_type": "code",
   "execution_count": 11,
   "metadata": {},
   "outputs": [],
   "source": [
    "fdata = []\n",
    "for i in range(0, len(base.radio.receiver.channel)):\n",
    "    fdata.append(np.fft.fftshift(np.fft.fft(wdata[i])))"
   ]
  },
  {
   "cell_type": "markdown",
   "metadata": {},
   "source": [
    "The FFT algorithm will always return the positive and\n",
    "negative frequencies in reverse order. So we should swap these around\n",
    "using `np.fft.fftshift` as given in the above cell. \n",
    "\n",
    "After shifting the frequency spectrum, we can plot to inspect the results."
   ]
  },
  {
   "cell_type": "code",
   "execution_count": 12,
   "metadata": {},
   "outputs": [
    {
     "data": {
      "application/vnd.jupyter.widget-view+json": {
       "model_id": "c723f1a7a6bc4ca984a588d98fe677a8",
       "version_major": 2,
       "version_minor": 0
      },
      "text/plain": [
       "VBox(children=(FigureWidget({\n",
       "    'data': [{'name': 'Spectrum',\n",
       "              'type': 'scatter',\n",
       "             …"
      ]
     },
     "metadata": {},
     "output_type": "display_data"
    }
   ],
   "source": [
    "def plot_complex_spectrum(data, N=number_samples, fs=sample_frequency, \n",
    "                          title='Complex Spectrum Plot', units='dBW', fc=0):\n",
    "    plt_temp = (go.Scatter(x = np.arange(-fs/2, fs/2, fs/N) + fc,\n",
    "                           y = data, name='Spectrum'))\n",
    "    return go.FigureWidget(data = plt_temp,\n",
    "                           layout = {'title': title, \n",
    "                                     'xaxis': {\n",
    "                                         'title': 'Frequency (Hz)',\n",
    "                                         'autorange': True},\n",
    "                                     'yaxis': {\n",
    "                                         'title': units}})\n",
    "\n",
    "magfigs = []\n",
    "for i in range(len(base.radio.receiver.channel)):\n",
    "    magfigs.append(plot_complex_spectrum(\n",
    "            data=abs(fdata[i]),\n",
    "            title=''.join(['Frequency Magnitude Plot of ADC Channel ', str(i)]),\n",
    "            units='|Y(f)|',\n",
    "            fc=0))\n",
    "\n",
    "ipw.VBox(magfigs)"
   ]
  },
  {
   "cell_type": "markdown",
   "metadata": {},
   "source": [
    "The code cell above introduced a new custom function `plot_complex_spectrum`\n",
    "to help us plot complex frequency domain plots. This function has an optional\n",
    "argument `fc` to shift the plot's x-axis around the RF ADC block center frequency.\n",
    "\n",
    "Inspecting the plots, you will see a peak around 200 MHz on channel 0, \n",
    "and 1500 MHz on channel 1. Notice the power of the signal for each channel."
   ]
  },
  {
   "cell_type": "code",
   "execution_count": 13,
   "metadata": {},
   "outputs": [],
   "source": [
    "def freq_to_psd(data, N=number_samples, fs=sample_frequency, \n",
    "                window=np.array(np.ones(number_samples)[:])):\n",
    "    psd = (abs(data)**2)/(fs*np.sum(window**2))\n",
    "    return 10*np.where(psd > 0, np.log10(psd), 0)\n",
    "\n",
    "psd = []\n",
    "for i in range(0, len(base.radio.receiver.channel)):\n",
    "    psd.append(freq_to_psd(data=fdata[i], window=window))"
   ]
  },
  {
   "cell_type": "markdown",
   "metadata": {},
   "source": [
    "### Plotting the Spectrum <a class=\"anchor\" id=\"plotting-the-spectrum\"></a>\n",
    "\n",
    "Finally, we can do the frequency plots. We will plot the PSD similar to\n",
    "before and inspect the spectrum for each channel."
   ]
  },
  {
   "cell_type": "code",
   "execution_count": 14,
   "metadata": {},
   "outputs": [
    {
     "data": {
      "application/vnd.jupyter.widget-view+json": {
       "model_id": "eea31cbd566c4937a3bcbb72f205ed8a",
       "version_major": 2,
       "version_minor": 0
      },
      "text/plain": [
       "VBox(children=(FigureWidget({\n",
       "    'data': [{'name': 'Spectrum',\n",
       "              'type': 'scatter',\n",
       "             …"
      ]
     },
     "metadata": {},
     "output_type": "display_data"
    }
   ],
   "source": [
    "psdfigs = []\n",
    "for i in range(0, len(base.radio.receiver.channel)):\n",
    "    psdfigs.append(plot_complex_spectrum(\n",
    "            data=psd[i],\n",
    "            title=''.join(['Power Spectral Density Plot of ADC Channel ',\n",
    "                           str(i)]),\n",
    "            units='dB',\n",
    "            fc=0))\n",
    "\n",
    "ipw.VBox(psdfigs)"
   ]
  },
  {
   "cell_type": "markdown",
   "metadata": {},
   "source": [
    "You will be able to see the peaks of each tone that was generated from the RF\n",
    "DAC for each channel. Channel 0 was 200 MHz and channel 1 was 1500 MHz. "
   ]
  },
  {
   "cell_type": "code",
   "execution_count": 15,
   "metadata": {},
   "outputs": [],
   "source": [
    "matlabIP  = base.radio.receiver.channel_00.LTE_MIB_H_ip_0\n",
    "vitisIP   = base.radio.receiver.channel_20.lteCellSearch_0\n",
    "matlabTx0 = base.radio.transmitter.channel_00.LTE_GENER_ip_0\n",
    "matlabTx1 = base.radio.transmitter.channel_10.LTE_GENER_ip_0\n",
    "matlabDec = base.radio.receiver.channel_20.LTE_DOWNS_ip_0"
   ]
  },
  {
   "cell_type": "code",
   "execution_count": 16,
   "metadata": {},
   "outputs": [],
   "source": [
    "matlabTx0.write(0x100,1)\n",
    "matlabTx1.write(0x100,1)\n",
    "matlabDec.write(0x100,1)"
   ]
  },
  {
   "cell_type": "code",
   "execution_count": null,
   "metadata": {},
   "outputs": [],
   "source": [
    "NUM_DATA = 96000\n",
    "out_debug = allocate(shape=(NUM_DATA,), dtype=np.int32) \n",
    "vitisIP.write(0x30, out_debug.device_address) # Map Debug Output"
   ]
  },
  {
   "cell_type": "code",
   "execution_count": 17,
   "metadata": {},
   "outputs": [],
   "source": [
    "matlabIP.write(0x100,0x1) #extdatasel_in\n",
    "time.sleep(0.01)\n",
    "\n",
    "matlabIP.write(0x108,0x1) #start_in : Start ON\n",
    "time.sleep(0.01)\n",
    "\n",
    "matlabIP.write(0x108,0x0) #start_in : Start OFF\n",
    "time.sleep(0.1)"
   ]
  },
  {
   "cell_type": "code",
   "execution_count": 18,
   "metadata": {},
   "outputs": [
    {
     "name": "stdout",
     "output_type": "stream",
     "text": [
      "Ext Data Select 0x1 : \n",
      "Start 0x0 : \n",
      "NCell ID 0x65 : \n",
      "Freq Est. 0xD : \n",
      "Cell Detected 0x1 : \n",
      "Cell Search Done 0x1 : \n",
      "MIB Detected 0x1 : \n",
      "MIB Error 0x0 : \n"
     ]
    }
   ],
   "source": [
    "val = matlabIP.read(0x100) #extdatasel_in_Data\n",
    "print(\"Ext Data Select 0x%X : \" % val)\n",
    "val = matlabIP.read(0x108) # start_in_Data\n",
    "print(\"Start 0x%X : \" % val)\n",
    "val = matlabIP.read(0x110) #ncellid_Data\n",
    "print(\"NCell ID 0x%X : \" % val)\n",
    "val = matlabIP.read(0x118) #freqest_Data\n",
    "print(\"Freq Est. 0x%X : \" % val)\n",
    "val = matlabIP.read(0x11C) #celldetected_Data\n",
    "print(\"Cell Detected 0x%X : \" % val)\n",
    "val = matlabIP.read(0x120) #cellsearchdone_Data\n",
    "print(\"Cell Search Done 0x%X : \" % val)\n",
    "val = matlabIP.read(0x138) #mibdetected_Data\n",
    "print(\"MIB Detected 0x%X : \" % val)\n",
    "val = matlabIP.read(0x13C) #miberror_Data\n",
    "print(\"MIB Error 0x%X : \" % val)"
   ]
  },
  {
   "cell_type": "code",
   "execution_count": 53,
   "metadata": {},
   "outputs": [
    {
     "name": "stdout",
     "output_type": "stream",
     "text": [
      "Freq Est. 00000003 \t NCell ID 101\r"
     ]
    }
   ],
   "source": [
    "for _ in range(0,10):\n",
    "    matlabIP.write(0x108,0x1) #start_in : Start ON\n",
    "    time.sleep(0.01)\n",
    "    matlabIP.write(0x108,0x0) #start_in : Start OFF\n",
    "    time.sleep(0.1)\n",
    "    \n",
    "    val1 = matlabIP.read(0x110) #ncellid_Data\n",
    "    val2 = matlabIP.read(0x118) #freqest_Data\n",
    "    print(\"Freq Est. %08X \\t NCell ID %03d\" % (val2,val1), end='\\r')\n",
    "\n",
    "    time.sleep(1)"
   ]
  },
  {
   "cell_type": "code",
   "execution_count": 20,
   "metadata": {},
   "outputs": [
    {
     "name": "stdout",
     "output_type": "stream",
     "text": [
      "PSS_ID = 2 PEAK_INDEX = 91085\r"
     ]
    }
   ],
   "source": [
    "vitisIP.write(0x00, 0x01) # Restart IP\n",
    "time.sleep(0.8)\n",
    "val1 = vitisIP.read(0x10) #Data signal of PSS_ID\n",
    "val2 = vitisIP.read(0x20) #Data signal of PEAK_INDEX\n",
    "print(\"PSS_ID = %d PEAK_INDEX = %d\" % (val1,val2), end='\\r')"
   ]
  },
  {
   "cell_type": "code",
   "execution_count": 68,
   "metadata": {},
   "outputs": [
    {
     "name": "stdout",
     "output_type": "stream",
     "text": [
      "Detected LTE Cell with NCellID=101 at Fc=-800.00 MHz\n",
      "\n",
      "Scanning Frequency : -850.09\r"
     ]
    }
   ],
   "source": [
    "scanFreqs = [800.0, 850.0]\n",
    "for i in scanFreqs:\n",
    "    for j in range(0,20):\n",
    "        scanFreq = 0.1 -i - j/100.0\n",
    "        print(\"Scanning Frequency : %0.2f\" % (scanFreq), end='\\r')\n",
    "        base.radio.receiver.channel_00.adc_block.MixerSettings['Freq'] = scanFreq\n",
    "        base.radio.receiver.channel_20.adc_block.MixerSettings['Freq'] = scanFreq\n",
    "        base.radio.receiver.channel_00.adc_block.UpdateEvent(xrfdc.EVENT_MIXER)\n",
    "        base.radio.receiver.channel_20.adc_block.UpdateEvent(xrfdc.EVENT_MIXER)\n",
    "        time.sleep(0.01)\n",
    "        matlabIP.write(0x108,0x1) #start_in : Start ON\n",
    "        time.sleep(0.01)\n",
    "        matlabIP.write(0x108,0x0) #start_in : Start OFF\n",
    "        time.sleep(0.1)\n",
    "        val1 = matlabIP.read(0x110) #ncellid_Data\n",
    "        \n",
    "        if(val1 != 0):\n",
    "            print(\"Detected LTE Cell with NCellID=%03d at Fc=%0.2f MHz\\n\" % (val1,scanFreq))\n",
    "            break;\n"
   ]
  },
  {
   "cell_type": "code",
   "execution_count": 69,
   "metadata": {},
   "outputs": [
    {
     "data": {
      "application/vnd.jupyter.widget-view+json": {
       "model_id": "558d861366c64b60ab899b5f5f9f8635",
       "version_major": 2,
       "version_minor": 0
      },
      "text/plain": [
       "VBox(children=(FigureWidget({\n",
       "    'data': [{'name': '[PSS0]',\n",
       "              'type': 'scatter',\n",
       "              '…"
      ]
     },
     "metadata": {},
     "output_type": "display_data"
    }
   ],
   "source": [
    "def plot_PSS_Correlation(data, pss_id, pss_index, N=96000, fs=1.92e6,\n",
    "                          title='PSS Search Plot', units='Correleation Level'):\n",
    "    plt_temp = (go.Scatter(x = np.arange(0, N/fs, 1/fs), y = data, name='[PSS' + str(pss_id) + ']'))\n",
    "    plt_temp2 = (go.Scatter(x = [pss_index/fs], y = [data[pss_index]], name='[Peak : ' + str(data[pss_index]) + ']'))\n",
    "    return go.FigureWidget(data = [plt_temp, plt_temp2],\n",
    "                           layout = {'title': title, \n",
    "                                     'xaxis': {\n",
    "                                         'title': 'Time (s)',\n",
    "                                         'autorange': True},\n",
    "                                     'yaxis': {\n",
    "                                         'title': units}})\n",
    "\n",
    "magfigs = []\n",
    "magfigs.append(plot_PSS_Correlation(data=out_debug/10000.0, pss_id=val1, pss_index=val2))\n",
    "\n",
    "ipw.VBox(magfigs)"
   ]
  }
 ],
 "metadata": {
  "kernelspec": {
   "display_name": "Python 3",
   "language": "python",
   "name": "python3"
  },
  "language_info": {
   "codemirror_mode": {
    "name": "ipython",
    "version": 3
   },
   "file_extension": ".py",
   "mimetype": "text/x-python",
   "name": "python",
   "nbconvert_exporter": "python",
   "pygments_lexer": "ipython3",
   "version": "3.8.2"
  },
  "widgets": {
   "application/vnd.jupyter.widget-state+json": {
    "state": {},
    "version_major": 2,
    "version_minor": 0
   }
  }
 },
 "nbformat": 4,
 "nbformat_minor": 4
}
