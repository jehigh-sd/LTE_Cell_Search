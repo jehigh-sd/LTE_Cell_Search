{
 "cells": [
  {
   "cell_type": "markdown",
   "metadata": {},
   "source": [
    "## Hardware Setup <a class=\"anchor\" id=\"hardware-setup\"></a>\n",
    "\n",
    "The RFSoC2x2 board is dual-channel. Notice that there are only\n",
    "4 SMAs on your board, labeled DAC1, DAC2, ADC1, and ADC2.\n",
    "Only two sets of RF ADC and RF DAC channels are accessible on\n",
    "the RFSoC2x2 board.\n",
    "\n",
    "You should create the loopback connection using SMA cables\n",
    "as shown below:\n",
    "\n",
    "* Channel 0: DAC2 to ADC2\n",
    "* Channel 1: DAC1 to ADC1\n",
    "\n",
    "See the image below for a demonstration."
   ]
  },
  {
   "cell_type": "markdown",
   "metadata": {},
   "source": [
    "<img src='data/rfsoc2x2_connections.jpg' align='left' style='left' width='40%' height='40%'/>"
   ]
  },
  {
   "cell_type": "code",
   "execution_count": 21,
   "metadata": {},
   "outputs": [],
   "source": [
    "from pynq.overlays.base import BaseOverlay\n",
    "import xrfdc\n",
    "base = BaseOverlay('lteCellSearchV29.bit')"
   ]
  },
  {
   "cell_type": "markdown",
   "metadata": {},
   "source": [
    "The RFSoC2x2 has a sophisticated clocking network, which can generate\n",
    "low-jitter clocks for the RF DC Phase-Locked Loops (PLLs). The base overlay\n",
    "has a simple method to initialize these clocks. Run the cell below to set\n",
    "the LMK and LMX clocks to 122.88MHz and 491.52MHz, respectively."
   ]
  },
  {
   "cell_type": "code",
   "execution_count": 22,
   "metadata": {},
   "outputs": [],
   "source": [
    "base.init_rf_clks(lmk_freq=122.88, lmx_freq=491.52)"
   ]
  },
  {
   "cell_type": "code",
   "execution_count": null,
   "metadata": {},
   "outputs": [],
   "source": [
    "base.radio.receiver.channel_00.adc_tile.DynamicPLLConfig(1, 491.52, 3932.16)\n",
    "base.radio.receiver.channel_20.adc_tile.DynamicPLLConfig(1, 491.52, 3932.16)\n",
    "base.radio.receiver.channel_00.adc_block.MixerSettings['Freq'] = -800.0\n",
    "base.radio.receiver.channel_20.adc_block.MixerSettings['Freq'] = -800.0\n",
    "base.radio.receiver.channel_00.adc_block.CalibrationMode = 1\n",
    "base.radio.receiver.channel_20.adc_block.CalibrationMode = 1\n",
    "base.radio.receiver.channel_00.adc_block.UpdateEvent(xrfdc.EVENT_MIXER)\n",
    "base.radio.receiver.channel_20.adc_block.UpdateEvent(xrfdc.EVENT_MIXER)\n",
    "base.radio.receiver.channel_00.adc_tile.SetupFIFO(True)\n",
    "base.radio.receiver.channel_20.adc_tile.SetupFIFO(True)\n",
    "base.radio.receiver.channel_00.adc_block.DecimationFactor = 8\n",
    "base.radio.receiver.channel_20.adc_block.DecimationFactor = 8"
   ]
  },
  {
   "cell_type": "markdown",
   "metadata": {},
   "source": [
    "### Setting up the Transmitter\n",
    "There are several interesting spectral properties to inspect.\n",
    "We will set up each RF DAC channel with a carrier frequency first.\n",
    "Then we can set the each channel to different frequencies and amplitudes\n",
    "to make our example more interesting."
   ]
  },
  {
   "cell_type": "code",
   "execution_count": 3,
   "metadata": {},
   "outputs": [],
   "source": [
    "def set_transmitter_channel(channel, enable, gain, frequency):\n",
    "    channel.control.enable = enable\n",
    "    channel.control.gain = gain\n",
    "    channel.dac_block.MixerSettings['Freq'] = frequency\n",
    "\n",
    "set_transmitter_channel(base.radio.transmitter.channel[0], True, 0.8,  200)\n",
    "set_transmitter_channel(base.radio.transmitter.channel[1], True, 0.1, 1500)"
   ]
  },
  {
   "cell_type": "markdown",
   "metadata": {},
   "source": [
    "The above code cell has set the transmitter for each channel as follows:\n",
    "\n",
    "* Transmitter Channel 0\n",
    "    * Frequency: 200 MHz\n",
    "    * Gain: 0.8\n",
    "* Transmitter Channel 1\n",
    "    * Frequency: 1500 MHz\n",
    "    * Gain: 0.15\n",
    "    \n",
    "Lets look out for these frequencies when we finally reach the spectrum analysis section."
   ]
  },
  {
   "cell_type": "markdown",
   "metadata": {},
   "source": [
    "### Capture RF ADC Data <a class=\"anchor\" id=\"capture-rf-adc-data\"></a>\n",
    "\n",
    "In order to perform spectral analysis, we need to capture data from the RF\n",
    "ADC. We can capture data using the radio hierarchy block."
   ]
  },
  {
   "cell_type": "code",
   "execution_count": 37,
   "metadata": {},
   "outputs": [],
   "source": [
    "number_samples = 1024\n",
    "sample_frequency = 491.52e6\n",
    "cdata = []\n",
    "for i in range(0, len(base.radio.receiver.channel)):\n",
    "    cdata.append(base.radio.receiver.channel[i].transfer(number_samples))"
   ]
  },
  {
   "cell_type": "markdown",
   "metadata": {},
   "source": [
    "Great, let's now create time domain plots for each segment of data captured\n",
    "from the RF ADC. \n",
    "\n",
    "In the cell below, we have created a simple helper function `plot_complex_time`\n",
    "which can help us quickly create new complex time domain plots. \n",
    "We will use `plotly`, `numpy`, and `ipywidgets` to support our visualization."
   ]
  },
  {
   "cell_type": "code",
   "execution_count": 38,
   "metadata": {},
   "outputs": [
    {
     "data": {
      "application/vnd.jupyter.widget-view+json": {
       "model_id": "5b92cc0874b54ae4a91b3ce2d26120fc",
       "version_major": 2,
       "version_minor": 0
      },
      "text/plain": [
       "VBox(children=(FigureWidget({\n",
       "    'data': [{'name': 'Real',\n",
       "              'type': 'scatter',\n",
       "              'ui…"
      ]
     },
     "metadata": {},
     "output_type": "display_data"
    }
   ],
   "source": [
    "import plotly.graph_objs as go\n",
    "import numpy as np\n",
    "import ipywidgets as ipw\n",
    "\n",
    "def plot_complex_time(data, n=number_samples, fs=sample_frequency, \n",
    "                      title='Complex Time Plot'):\n",
    "    plt_re_temp = (go.Scatter(x = np.arange(0, n/fs, 1/fs),\n",
    "                              y = np.real(data), name='Real'))\n",
    "    plt_im_temp = (go.Scatter(x = np.arange(0, n/fs, 1/fs),\n",
    "                              y = np.imag(data), name='Imag'))\n",
    "    return go.FigureWidget(data = [plt_re_temp, plt_im_temp],\n",
    "                           layout = {'title': title, \n",
    "                                     'xaxis': {\n",
    "                                         'title': 'Seconds (s)',\n",
    "                                         'autorange' : True},\n",
    "                                     'yaxis': {\n",
    "                                         'title': 'Amplitude (V)'}})\n",
    "\n",
    "tfigs = []\n",
    "for i in range(0, len(base.radio.receiver.channel)):\n",
    "    tfigs.append(plot_complex_time(\n",
    "            data=cdata[i], \n",
    "            title=''.join(['Time Domain Plot of ADC Channel ', str(i)])))\n",
    "\n",
    "ipw.VBox(tfigs)"
   ]
  },
  {
   "cell_type": "markdown",
   "metadata": {},
   "source": [
    "Note it is quite difficult to look at the plots and determine the signal's\n",
    "oscillation frequency. This is where spectral analysis can prove to be very\n",
    "useful. Let's first apply a simple window to our time domain signals."
   ]
  },
  {
   "cell_type": "markdown",
   "metadata": {},
   "source": [
    "### Time Domain Windowing <a class=\"anchor\" id=\"time-domain-windowing\"></a>\n",
    "\n",
    "Windowing is a useful tool in spectral analysis of a time domain signal. \n",
    "This technique is used on the time domain signal before FFT. \n",
    "\n",
    "Why do we need windowing? The FFT assumes that the input signal is periodic.\n",
    "To prevent unwanted frequency spurs and spectral leakage, the start of the\n",
    "signal should also connect to the end of the signal.\n",
    "\n",
    "In this example, we will use a simple Blackman\n",
    "filter to illustrate windowing."
   ]
  },
  {
   "cell_type": "code",
   "execution_count": 39,
   "metadata": {},
   "outputs": [],
   "source": [
    "window = np.array(np.blackman(number_samples)[:])"
   ]
  },
  {
   "cell_type": "markdown",
   "metadata": {},
   "source": [
    "The blackman window can be easily applied to the time domain data\n",
    "through element-wise multiplication. This is why the window created in the\n",
    "cell above, is the same size as our time domain data."
   ]
  },
  {
   "cell_type": "code",
   "execution_count": 40,
   "metadata": {},
   "outputs": [
    {
     "data": {
      "application/vnd.jupyter.widget-view+json": {
       "model_id": "bf76c385e2064b2c9fd9f7b7141cb28f",
       "version_major": 2,
       "version_minor": 0
      },
      "text/plain": [
       "VBox(children=(FigureWidget({\n",
       "    'data': [{'name': 'Real',\n",
       "              'type': 'scatter',\n",
       "              'ui…"
      ]
     },
     "metadata": {},
     "output_type": "display_data"
    }
   ],
   "source": [
    "wdata = []\n",
    "wfigs = []\n",
    "\n",
    "for i in range(0, len(base.radio.receiver.channel)):\n",
    "    wdata.append(cdata[i]*window)\n",
    "    wfigs.append(plot_complex_time(\n",
    "            data=wdata[i], \n",
    "            title=''.join(['Windowed Plot of ADC Channel ', str(i)])))\n",
    "\n",
    "ipw.VBox(wfigs)"
   ]
  },
  {
   "cell_type": "markdown",
   "metadata": {},
   "source": [
    "As you can see, the windowed data now starts and ends around an amplitude of 0.\n",
    "This reduces spectral leakage and unwanted spurs when we later perform\n",
    "spectral analysis."
   ]
  },
  {
   "cell_type": "markdown",
   "metadata": {},
   "source": [
    "### Convert to the Frequency Domain <a class=\"anchor\" id=\"convert-to-the-frequency-domain\"></a>\n",
    "\n",
    "Converting to the frequency domain is very easy using the FFT. The `numpy`\n",
    "package performs most of the hard work for us. Let's obtain the magnitude of\n",
    "the frequency spectrum."
   ]
  },
  {
   "cell_type": "code",
   "execution_count": 41,
   "metadata": {},
   "outputs": [],
   "source": [
    "fdata = []\n",
    "for i in range(0, len(base.radio.receiver.channel)):\n",
    "    fdata.append(np.fft.fftshift(np.fft.fft(wdata[i])))"
   ]
  },
  {
   "cell_type": "markdown",
   "metadata": {},
   "source": [
    "The FFT algorithm will always return the positive and\n",
    "negative frequencies in reverse order. So we should swap these around\n",
    "using `np.fft.fftshift` as given in the above cell. \n",
    "\n",
    "After shifting the frequency spectrum, we can plot to inspect the results."
   ]
  },
  {
   "cell_type": "code",
   "execution_count": 42,
   "metadata": {},
   "outputs": [
    {
     "data": {
      "application/vnd.jupyter.widget-view+json": {
       "model_id": "cf5b7c45d97f4a5989bfc01c49551c94",
       "version_major": 2,
       "version_minor": 0
      },
      "text/plain": [
       "VBox(children=(FigureWidget({\n",
       "    'data': [{'name': 'Spectrum',\n",
       "              'type': 'scatter',\n",
       "             …"
      ]
     },
     "metadata": {},
     "output_type": "display_data"
    }
   ],
   "source": [
    "def plot_complex_spectrum(data, N=number_samples, fs=sample_frequency, \n",
    "                          title='Complex Spectrum Plot', units='dBW', fc=0):\n",
    "    plt_temp = (go.Scatter(x = np.arange(-fs/2, fs/2, fs/N) + fc,\n",
    "                           y = data, name='Spectrum'))\n",
    "    return go.FigureWidget(data = plt_temp,\n",
    "                           layout = {'title': title, \n",
    "                                     'xaxis': {\n",
    "                                         'title': 'Frequency (Hz)',\n",
    "                                         'autorange': True},\n",
    "                                     'yaxis': {\n",
    "                                         'title': units}})\n",
    "\n",
    "magfigs = []\n",
    "for i in range(len(base.radio.receiver.channel)):\n",
    "    magfigs.append(plot_complex_spectrum(\n",
    "            data=abs(fdata[i]),\n",
    "            title=''.join(['Frequency Magnitude Plot of ADC Channel ', str(i)]),\n",
    "            units='|Y(f)|',\n",
    "            fc=round(abs(base.radio.receiver.channel[\n",
    "                        i].adc_block.MixerSettings['Freq']))*1e6))\n",
    "\n",
    "ipw.VBox(magfigs)"
   ]
  },
  {
   "cell_type": "markdown",
   "metadata": {},
   "source": [
    "The code cell above introduced a new custom function `plot_complex_spectrum`\n",
    "to help us plot complex frequency domain plots. This function has an optional\n",
    "argument `fc` to shift the plot's x-axis around the RF ADC block center frequency.\n",
    "\n",
    "Inspecting the plots, you will see a peak around 200 MHz on channel 0, \n",
    "and 1500 MHz on channel 1. Notice the power of the signal for each channel."
   ]
  },
  {
   "cell_type": "code",
   "execution_count": 12,
   "metadata": {},
   "outputs": [],
   "source": [
    "def freq_to_psd(data, N=number_samples, fs=sample_frequency, \n",
    "                window=np.array(np.ones(number_samples)[:])):\n",
    "    psd = (abs(data)**2)/(fs*np.sum(window**2))\n",
    "    return 10*np.where(psd > 0, np.log10(psd), 0)\n",
    "\n",
    "psd = []\n",
    "for i in range(0, len(base.radio.receiver.channel)):\n",
    "    psd.append(freq_to_psd(data=fdata[i], window=window))"
   ]
  },
  {
   "cell_type": "markdown",
   "metadata": {},
   "source": [
    "### Plotting the Spectrum <a class=\"anchor\" id=\"plotting-the-spectrum\"></a>\n",
    "\n",
    "Finally, we can do the frequency plots. We will plot the PSD similar to\n",
    "before and inspect the spectrum for each channel."
   ]
  },
  {
   "cell_type": "code",
   "execution_count": 13,
   "metadata": {},
   "outputs": [
    {
     "data": {
      "application/vnd.jupyter.widget-view+json": {
       "model_id": "d46f00e80ff54977a8805b48e7c6586c",
       "version_major": 2,
       "version_minor": 0
      },
      "text/plain": [
       "VBox(children=(FigureWidget({\n",
       "    'data': [{'name': 'Spectrum',\n",
       "              'type': 'scatter',\n",
       "             …"
      ]
     },
     "metadata": {},
     "output_type": "display_data"
    }
   ],
   "source": [
    "psdfigs = []\n",
    "for i in range(0, len(base.radio.receiver.channel)):\n",
    "    psdfigs.append(plot_complex_spectrum(\n",
    "            data=psd[i],\n",
    "            title=''.join(['Power Spectral Density Plot of ADC Channel ',\n",
    "                           str(i)]),\n",
    "            units='dB',\n",
    "            fc=round(abs(base.radio.receiver.channel[\n",
    "                        i].adc_block.MixerSettings['Freq']))*1e6))\n",
    "\n",
    "ipw.VBox(psdfigs)"
   ]
  },
  {
   "cell_type": "markdown",
   "metadata": {},
   "source": [
    "You will be able to see the peaks of each tone that was generated from the RF\n",
    "DAC for each channel. Channel 0 was 200 MHz and channel 1 was 1500 MHz. "
   ]
  },
  {
   "cell_type": "code",
   "execution_count": 14,
   "metadata": {},
   "outputs": [],
   "source": [
    "myIP = base.radio.receiver.channel_00.lteCellSearch_0"
   ]
  },
  {
   "cell_type": "code",
   "execution_count": 19,
   "metadata": {},
   "outputs": [
    {
     "name": "stdout",
     "output_type": "stream",
     "text": [
      "Freq Est. 0x0 : \n"
     ]
    }
   ],
   "source": [
    "val = myIP.read(0x04) #freqest_Data\n",
    "print(\"Freq Est. 0x%X : \" % val)"
   ]
  },
  {
   "cell_type": "code",
   "execution_count": null,
   "metadata": {},
   "outputs": [],
   "source": []
  }
 ],
 "metadata": {
  "kernelspec": {
   "display_name": "Python 3",
   "language": "python",
   "name": "python3"
  },
  "language_info": {
   "codemirror_mode": {
    "name": "ipython",
    "version": 3
   },
   "file_extension": ".py",
   "mimetype": "text/x-python",
   "name": "python",
   "nbconvert_exporter": "python",
   "pygments_lexer": "ipython3",
   "version": "3.8.2"
  },
  "widgets": {
   "application/vnd.jupyter.widget-state+json": {
    "state": {},
    "version_major": 2,
    "version_minor": 0
   }
  }
 },
 "nbformat": 4,
 "nbformat_minor": 4
}
