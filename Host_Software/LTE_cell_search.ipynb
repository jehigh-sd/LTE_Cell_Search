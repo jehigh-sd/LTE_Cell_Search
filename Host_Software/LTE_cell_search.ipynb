{
 "cells": [
  {
   "cell_type": "code",
   "execution_count": 47,
   "metadata": {},
   "outputs": [],
   "source": [
    "from pynq import Overlay\n",
    "import numpy as np\n",
    "from pynq import allocate\n",
    "from pynq.lib import dma\n",
    "from scipy.linalg import dft\n",
    "import matplotlib.pyplot as plt\n",
    "import time\n",
    "from IPython.display import Audio\n",
    "from pynq import Clocks\n",
    "import threading\n",
    "import queue\n",
    "import struct\n",
    "import pyaudio\n",
    "import array\n",
    "from sys import stdout, stderr"
   ]
  },
  {
   "cell_type": "code",
   "execution_count": 48,
   "metadata": {},
   "outputs": [],
   "source": [
    "re = np.loadtxt('input.real.dat')\n",
    "im = np.loadtxt('input.imag.dat')\n",
    "exp_out = np.loadtxt('output.dat')"
   ]
  },
  {
   "cell_type": "code",
   "execution_count": 49,
   "metadata": {},
   "outputs": [],
   "source": [
    "ol=Overlay('Project1_design_1.bit')"
   ]
  },
  {
   "cell_type": "code",
   "execution_count": 50,
   "metadata": {},
   "outputs": [
    {
     "name": "stdout",
     "output_type": "stream",
     "text": [
      "Proceesing time: 15470922494596.861 seconds\n"
     ]
    }
   ],
   "source": [
    "dma_ro = ol.axi_dma_0\n",
    "dma_i  = ol.axi_dma_1\n",
    "len_ip = ol.cp_corr_0\n",
    "\n",
    "length_in =96000 \n",
    "length_out = 100\n",
    "\n",
    "in_data_r = allocate(shape=(length_in,), dtype=np.float32, cacheable=True)\n",
    "in_data_i = allocate(shape=(length_in,), dtype=np.float32, cacheable=True)\n",
    "out_hw = allocate(shape=(length_out,), dtype=np.float32, cacheable=True)\n",
    "\n",
    "tic = time.clock_gettime(1);\n",
    "x_hw = re.astype(np.float32)\n",
    "np.copyto(in_data_r, x_hw)\n",
    "\n",
    "x_hw = im.astype(np.float32)\n",
    "np.copyto(in_data_i, x_hw)\n",
    "\n",
    "dma_ro.sendchannel.transfer(in_data_r)\n",
    "dma_i.sendchannel.transfer(in_data_i)\n",
    "dma_ro.recvchannel.transfer(out_hw)\n",
    "\n",
    "len_ip.write(0x00,0x81)\n",
    "\n",
    "while not dma_ro.recvchannel.idle:\n",
    "    pass\n",
    "\n",
    "toc = time.clock_gettime_ns(1);\n",
    "len_ip.write(0x00,0x00)\n",
    "\n",
    "in_data_r.flush()\n",
    "out_hw.flush()\n",
    "\n",
    "print(\"Proceesing time: {} seconds\".format(toc - tic))\n",
    "in_data_r.close()\n",
    "in_data_i.close()\n",
    "out_hw.close()"
   ]
  },
  {
   "cell_type": "code",
   "execution_count": 52,
   "metadata": {},
   "outputs": [
    {
     "name": "stderr",
     "output_type": "stream",
     "text": [
      "<ipython-input-52-5dfd16836167>:6: UserWarning: In Matplotlib 3.3 individual lines on a stem plot will be added as a LineCollection instead of individual lines. This significantly improves the performance of a stem plot. To remove this warning and switch to the new behaviour, set the \"use_line_collection\" keyword argument to True.\n",
      "  plt.stem(out_hw)\n"
     ]
    },
    {
     "data": {
      "image/png": "[encoded data removed]",
      "text/plain": [
       "<Figure size 432x288 with 1 Axes>"
      ]
     },
     "metadata": {
      "needs_background": "light"
     },
     "output_type": "display_data"
    },
    {
     "name": "stderr",
     "output_type": "stream",
     "text": [
      "<ipython-input-52-5dfd16836167>:8: UserWarning: In Matplotlib 3.3 individual lines on a stem plot will be added as a LineCollection instead of individual lines. This significantly improves the performance of a stem plot. To remove this warning and switch to the new behaviour, set the \"use_line_collection\" keyword argument to True.\n",
      "  plt.stem(exp_out)\n"
     ]
    },
    {
     "data": {
      "image/png": "[encoded data removed]",
      "text/plain": [
       "<Figure size 432x288 with 1 Axes>"
      ]
     },
     "metadata": {
      "needs_background": "light"
     },
     "output_type": "display_data"
    },
    {
     "name": "stdout",
     "output_type": "stream",
     "text": [
      "RMSE: 89.5624430607371\n"
     ]
    }
   ],
   "source": [
    "\"\"\" Calculating and plotting Error\"\"\"\n",
    "%matplotlib inline\n",
    "xlab = array.array('i',(0 for i in range(0,100)))\n",
    "diff = exp_out - out_hw\n",
    "#plt.plot(out_hw)\n",
    "plt.stem(out_hw)\n",
    "plt.show()\n",
    "plt.stem(exp_out)\n",
    "plt.show()\n",
    "print(\"RMSE: {}\".format(np.sqrt(np.mean((diff)**2))))"
   ]
  },
  {
   "cell_type": "code",
   "execution_count": null,
   "metadata": {},
   "outputs": [],
   "source": []
  }
 ],
 "metadata": {
  "kernelspec": {
   "display_name": "Python 3",
   "language": "python",
   "name": "python3"
  },
  "language_info": {
   "codemirror_mode": {
    "name": "ipython",
    "version": 3
   },
   "file_extension": ".py",
   "mimetype": "text/x-python",
   "name": "python",
   "nbconvert_exporter": "python",
   "pygments_lexer": "ipython3",
   "version": "3.8.2"
  }
 },
 "nbformat": 4,
 "nbformat_minor": 4
}
